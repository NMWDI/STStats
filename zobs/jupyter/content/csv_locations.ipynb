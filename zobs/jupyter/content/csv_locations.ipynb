{
 "cells": [
  {
   "cell_type": "markdown",
   "source": [
    "Use this notebook to download a csv of locations from a given agency.  The results will be output as a CSV file at `<AGENCY>_locations.csv`"
   ],
   "metadata": {
    "collapsed": false
   }
  },
  {
   "cell_type": "code",
   "execution_count": null,
   "metadata": {
    "collapsed": true
   },
   "outputs": [],
   "source": [
    "import pyodide\n",
    "import matplotlib.pyplot as plt\n",
    "\n",
    "async def fetch(path, *args, **kw):\n",
    "    url = f'https://st2.newmexicowaterdata.org/FROST-Server/v1.1/{path}'\n",
    "    a = await pyodide.http.pyfetch(url=url,\n",
    "                                 method=\"get\",\n",
    "                                 )\n",
    "    data = await a.json()\n",
    "    return data"
   ]
  },
  {
   "cell_type": "markdown",
   "source": [
    "Fetch the **Locations** from the given `AGENCY`"
   ],
   "metadata": {
    "collapsed": false
   }
  },
  {
   "cell_type": "code",
   "execution_count": null,
   "outputs": [],
   "source": [
    "AGENCY = \"EBID\"\n",
    "resp = await fetch(f\"Locations?$filter=properties/agency eq '{AGENCY}'\")\n",
    "locations = resp['value']"
   ],
   "metadata": {
    "collapsed": false
   }
  },
  {
   "cell_type": "markdown",
   "source": [
    "Write `locations` to a csv file"
   ],
   "metadata": {
    "collapsed": false
   }
  },
  {
   "cell_type": "code",
   "execution_count": null,
   "outputs": [],
   "source": [
    "with open(f\"{AGENCY}_locations.csv\", 'w') as wfile:\n",
    "    wfile.write('id,name,description,latitude,longitude\\n')\n",
    "    for location in locations:\n",
    "        coords = location['location']['coordinates']\n",
    "        row = [location['@iot.id'], location['name'], location['description'], coords[1], coords[0]]\n",
    "        row = [str(r) for r in row]\n",
    "        row = ','.join(row)\n",
    "        wfile.write(f\"{row}\\n\")"
   ],
   "metadata": {
    "collapsed": false
   }
  }
 ],
 "metadata": {
  "kernelspec": {
   "display_name": "Python 3",
   "language": "python",
   "name": "python3"
  },
  "language_info": {
   "codemirror_mode": {
    "name": "ipython",
    "version": 2
   },
   "file_extension": ".py",
   "mimetype": "text/x-python",
   "name": "python",
   "nbconvert_exporter": "python",
   "pygments_lexer": "ipython2",
   "version": "2.7.6"
  }
 },
 "nbformat": 4,
 "nbformat_minor": 0
}
