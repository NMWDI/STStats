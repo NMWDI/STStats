{
 "cells": [
  {
   "cell_type": "code",
   "execution_count": 1,
   "metadata": {},
   "outputs": [],
   "source": [
    "import pyodide\n",
    "async def fetch(path, *args, **kw):\n",
    "    url = f'https://st2.newmexicowaterdata.org/FROST-Server/v1.1/{path}'\n",
    "    a = await pyodide.http.pyfetch(url=url,\n",
    "                                 method=\"get\",\n",
    "                                 )\n",
    "    data = await a.json()\n",
    "    return data"
   ]
  },
  {
   "cell_type": "code",
   "execution_count": null,
   "outputs": [],
   "source": [
    "location_name = 'Orchard Park Level-826157'\n",
    "resp = await fetch(f\"Locations?$filter=name eq '{location_name}'&$expand=Things/Datastreams\")\n",
    "location = resp['value'][0]\n",
    "ds_id = location['Things'][0]['Datastreams'][0]['@iot.id']"
   ],
   "metadata": {
    "collapsed": false
   }
  },
  {
   "cell_type": "code",
   "execution_count": 2,
   "metadata": {},
   "outputs": [],
   "source": [
    "resp = await fetch(f'Datastreams({ds_id})/Observations?$orderby=phenomenonTime desc')\n",
    "data = resp['value']"
   ]
  },
  {
   "cell_type": "code",
   "execution_count": null,
   "metadata": {
    "pycharm": {
     "is_executing": true
    }
   },
   "outputs": [],
   "source": [
    "import numpy as np\n",
    "import matplotlib.pyplot as plt"
   ]
  },
  {
   "cell_type": "code",
   "execution_count": null,
   "outputs": [],
   "source": [
    "ys = [d['result'] for d in data]\n",
    "xs = [d['phenomenonTime'] for d in data]\n",
    "plt.plot(xs,ys)\n",
    "plt.gca().invert_yaxis()\n",
    "plt.gca().invert_xaxis()\n",
    "\n",
    "plt.xlabel(\"Phenomenon Time\")\n",
    "plt.ylabel(\"DepthToWater (bgs ft)\")\n",
    "xticks = [xi for (i,xi) in enumerate(xs) if not i%100]\n",
    "xlabels = [xi.split('T')[0] for xi in xticks]\n",
    "plt.xticks(xticks, xlabels,\n",
    "           rotation=45)\n",
    "plt.tight_layout()\n",
    "plt.show()"
   ],
   "metadata": {
    "collapsed": false
   }
  }
 ],
 "metadata": {
  "kernelspec": {
   "display_name": "Pyolite",
   "language": "python",
   "name": "python"
  },
  "language_info": {
   "codemirror_mode": {
    "name": "python",
    "version": 3
   },
   "file_extension": ".py",
   "mimetype": "text/x-python",
   "name": "python",
   "nbconvert_exporter": "python",
   "pygments_lexer": "ipython3",
   "version": "3.8"
  },
  "orig_nbformat": 4,
  "toc-showcode": false
 },
 "nbformat": 4,
 "nbformat_minor": 4
}
