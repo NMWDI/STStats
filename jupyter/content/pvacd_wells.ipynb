{
 "cells": [
  {
   "cell_type": "markdown",
   "source": [
    "This is a Juypter notebook template that can be used to visualize the groundwater level measurements from one of the 10 PVACD monitoring wells. THe first cell defines a simple python function called `fetch`. This function is used for all of the API queries.  Because we are working with web APIs is is recommended to use `async` functions."
   ],
   "metadata": {
    "collapsed": false
   }
  },
  {
   "cell_type": "code",
   "execution_count": 1,
   "metadata": {},
   "outputs": [],
   "source": [
    "import pyodide\n",
    "import matplotlib.pyplot as plt\n",
    "\n",
    "async def fetch(path, *args, **kw):\n",
    "    url = f'https://st2.newmexicowaterdata.org/FROST-Server/v1.1/{path}'\n",
    "    a = await pyodide.http.pyfetch(url=url,\n",
    "                                 method=\"get\",\n",
    "                                 )\n",
    "    data = await a.json()\n",
    "    return data"
   ]
  },
  {
   "cell_type": "markdown",
   "source": [
    "Configure the next cell with the `location_name` of the well you would like to plot. e.g `Orchard Park`. The cell will then `fetch` the **Location,Thing and Datastream** from `ST2`"
   ],
   "metadata": {
    "collapsed": false
   }
  },
  {
   "cell_type": "code",
   "execution_count": null,
   "outputs": [],
   "source": [
    "location_name = 'Orchard Park'\n",
    "resp = await fetch(f\"Locations?$filter=startswith(name, '{location_name}')&$expand=Things/Datastreams\")\n",
    "location = resp['value'][0]\n",
    "ds_id = location['Things'][0]['Datastreams'][0]['@iot.id']"
   ],
   "metadata": {
    "collapsed": false
   }
  },
  {
   "cell_type": "markdown",
   "source": [
    "Now that we have the Groundwater Levels Datastream id with can retrieve the Observations associated with it"
   ],
   "metadata": {
    "collapsed": false
   }
  },
  {
   "cell_type": "code",
   "execution_count": 2,
   "metadata": {},
   "outputs": [],
   "source": [
    "resp = await fetch(f'Datastreams({ds_id})/Observations?$orderby=phenomenonTime desc')\n",
    "data = resp['value']"
   ]
  },
  {
   "cell_type": "markdown",
   "source": [
    "Use `matplotlib.pyplot` to plot a timeseries of Depth To Water"
   ],
   "metadata": {
    "collapsed": false
   }
  },
  {
   "cell_type": "code",
   "execution_count": null,
   "outputs": [],
   "source": [
    "ys = [d['result'] for d in data]\n",
    "xs = [d['phenomenonTime'] for d in data]\n",
    "plt.plot(xs,ys)\n",
    "plt.gca().invert_yaxis()\n",
    "plt.gca().invert_xaxis()\n",
    "\n",
    "plt.title(f\"{location_name}\")\n",
    "plt.xlabel(\"Time\")\n",
    "plt.ylabel(\"DepthToWater (bgs ft)\")\n",
    "xticks = [xi for (i,xi) in enumerate(xs) if not i%100]\n",
    "xlabels = [xi.split('T')[0] for xi in xticks]\n",
    "plt.xticks(xticks, xlabels,\n",
    "           rotation=45)\n",
    "plt.tight_layout()\n",
    "plt.show()"
   ],
   "metadata": {
    "collapsed": false
   }
  }
 ],
 "metadata": {
  "kernelspec": {
   "display_name": "Pyolite",
   "language": "python",
   "name": "python"
  },
  "language_info": {
   "codemirror_mode": {
    "name": "python",
    "version": 3
   },
   "file_extension": ".py",
   "mimetype": "text/x-python",
   "name": "python",
   "nbconvert_exporter": "python",
   "pygments_lexer": "ipython3",
   "version": "3.8"
  },
  "orig_nbformat": 4,
  "toc-showcode": false
 },
 "nbformat": 4,
 "nbformat_minor": 4
}
